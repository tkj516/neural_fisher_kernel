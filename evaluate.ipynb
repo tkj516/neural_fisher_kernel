{
 "cells": [
  {
   "cell_type": "code",
   "execution_count": 5,
   "metadata": {},
   "outputs": [],
   "source": [
    "import torch\n",
    "import numpy as np\n",
    "import matplotlib.pyplot as plt\n",
    "\n",
    "basis = torch.load(\"checkpoints/mobilenet_v2_l_20/basis_40000.pt\")"
   ]
  },
  {
   "cell_type": "code",
   "execution_count": 4,
   "metadata": {},
   "outputs": [],
   "source": [
    "BASIS_SIZE = 20\n",
    "\n",
    "def compute_spectrum(basis):\n",
    "    spectrum = [0] * BASIS_SIZE\n",
    "    for k in basis.keys():\n",
    "        for i in range(BASIS_SIZE):\n",
    "            spectrum[i] += torch.linalg.norm(basis[k][i].flatten()).cpu().numpy() ** 2\n",
    "\n",
    "    return np.sqrt(np.array(spectrum))"
   ]
  },
  {
   "cell_type": "code",
   "execution_count": 11,
   "metadata": {},
   "outputs": [
    {
     "data": {
      "image/png": "[encoded data removed]",
      "text/plain": [
       "<Figure size 640x480 with 1 Axes>"
      ]
     },
     "metadata": {},
     "output_type": "display_data"
    }
   ],
   "source": [
    "fig, ax = plt.subplots()\n",
    "spectrum = compute_spectrum(basis)\n",
    "ax.plot(np.arange(len(spectrum)), spectrum)\n",
    "plt.show()"
   ]
  },
  {
   "cell_type": "code",
   "execution_count": 17,
   "metadata": {},
   "outputs": [],
   "source": [
    "import torchvision.transforms as T\n",
    "from torch.utils.data import DataLoader\n",
    "from torchvision.datasets import CIFAR10\n",
    "from mobilenetv2 import mobilenet_v2\n",
    "from tqdm import tqdm\n",
    "import os"
   ]
  },
  {
   "cell_type": "code",
   "execution_count": 18,
   "metadata": {},
   "outputs": [],
   "source": [
    "os.environ[\"CUDA_VISIBLE_DEVICES\"] = \"7\""
   ]
  },
  {
   "cell_type": "code",
   "execution_count": 19,
   "metadata": {},
   "outputs": [],
   "source": [
    "BATCH_SIZE = 32\n",
    "DATA_DIR = \"/home/tejasj/data\"\n",
    "DEVICE = torch.device(\"cuda\" if torch.cuda.is_available() else \"cpu\")"
   ]
  },
  {
   "cell_type": "code",
   "execution_count": 20,
   "metadata": {},
   "outputs": [],
   "source": [
    "transform = T.Compose(\n",
    "        [\n",
    "            T.RandomCrop(32, padding=4),\n",
    "            T.RandomHorizontalFlip(),\n",
    "            T.ToTensor(),\n",
    "            T.Normalize((0.4914, 0.4822, 0.4465), (0.2471, 0.2435, 0.2616)),\n",
    "        ]\n",
    "    )\n",
    "dataset = CIFAR10(root=DATA_DIR, train=True, transform=transform)\n",
    "dataloader = DataLoader(\n",
    "    dataset,\n",
    "    batch_size=BATCH_SIZE,\n",
    "    num_workers=1,\n",
    "    drop_last=True,\n",
    "    pin_memory=True,\n",
    ")"
   ]
  },
  {
   "cell_type": "code",
   "execution_count": 21,
   "metadata": {},
   "outputs": [],
   "source": [
    "model = mobilenet_v2(pretrained=True).to(DEVICE)"
   ]
  },
  {
   "cell_type": "code",
   "execution_count": 24,
   "metadata": {},
   "outputs": [
    {
     "name": "stderr",
     "output_type": "stream",
     "text": [
      "100%|██████████| 1562/1562 [00:15<00:00, 98.86it/s] \n"
     ]
    }
   ],
   "source": [
    "accuracy = 0\n",
    "\n",
    "for sample, label in tqdm(dataloader):\n",
    "    sample = sample.to(DEVICE)\n",
    "    preds = torch.argmax(model(sample), dim=-1)\n",
    "\n",
    "    accuracy += (preds == label.to(DEVICE)).sum().cpu().numpy()\n",
    "    "
   ]
  },
  {
   "cell_type": "code",
   "execution_count": 25,
   "metadata": {},
   "outputs": [
    {
     "name": "stdout",
     "output_type": "stream",
     "text": [
      "Accuracy: 95.83%\n"
     ]
    }
   ],
   "source": [
    "accuracy /= len(dataset)\n",
    "accuracy *= 100\n",
    "print(f\"Accuracy: {accuracy:.2f}%\")"
   ]
  },
  {
   "cell_type": "code",
   "execution_count": 41,
   "metadata": {},
   "outputs": [],
   "source": [
    "model = mobilenet_v2(pretrained=True).to(DEVICE)\n",
    "params = dict(model.named_parameters())\n",
    "\n",
    "coeffs = {}\n",
    "for k in basis.keys():\n",
    "    coeffs[k] = torch.einsum(\"l...,...->l\", basis[k], params[k])"
   ]
  },
  {
   "cell_type": "code",
   "execution_count": 42,
   "metadata": {},
   "outputs": [
    {
     "name": "stderr",
     "output_type": "stream",
     "text": [
      "100%|██████████| 1562/1562 [00:15<00:00, 99.95it/s] "
     ]
    },
    {
     "name": "stdout",
     "output_type": "stream",
     "text": [
      "Accuracy: 9.99%\n"
     ]
    },
    {
     "name": "stderr",
     "output_type": "stream",
     "text": [
      "\n"
     ]
    }
   ],
   "source": [
    "basis = torch.load(\"checkpoints/mobilenet_v2_l_20/basis_40000.pt\")\n",
    "\n",
    "model = mobilenet_v2(pretrained=True).to(DEVICE)\n",
    "own_state = model.state_dict()\n",
    "for k in basis.keys():\n",
    "    if k not in own_state:\n",
    "            continue\n",
    "    projection = torch.einsum(\"l,l...->...\", coeffs[k][:1], basis[k][:1, ...])\n",
    "    own_state[k].copy_(projection)\n",
    "model.load_state_dict(own_state)\n",
    "\n",
    "model.eval()\n",
    "\n",
    "accuracy = 0\n",
    "\n",
    "for sample, label in tqdm(dataloader):\n",
    "    sample = sample.to(DEVICE)\n",
    "    preds = torch.argmax(model(sample), dim=-1)\n",
    "\n",
    "    accuracy += (preds == label.to(DEVICE)).sum().cpu().numpy()\n",
    "\n",
    "accuracy /= len(dataset)\n",
    "accuracy *= 100\n",
    "print(f\"Accuracy: {accuracy:.2f}%\")"
   ]
  },
  {
   "cell_type": "code",
   "execution_count": 43,
   "metadata": {},
   "outputs": [
    {
     "name": "stderr",
     "output_type": "stream",
     "text": [
      "100%|██████████| 1562/1562 [00:15<00:00, 102.86it/s]"
     ]
    },
    {
     "name": "stdout",
     "output_type": "stream",
     "text": [
      "Accuracy: 9.99%\n"
     ]
    },
    {
     "name": "stderr",
     "output_type": "stream",
     "text": [
      "\n"
     ]
    }
   ],
   "source": [
    "basis = torch.load(\"checkpoints/mobilenet_v2_l_20/basis_40000.pt\")\n",
    "\n",
    "model = mobilenet_v2(pretrained=True).to(DEVICE)\n",
    "own_state = model.state_dict()\n",
    "for k in basis.keys():\n",
    "    if k not in own_state:\n",
    "            continue\n",
    "    projection = torch.einsum(\"l,l...->...\", coeffs[k][:20], basis[k][:20, ...])\n",
    "    own_state[k].copy_(projection)\n",
    "model.load_state_dict(own_state)\n",
    "\n",
    "model.eval()\n",
    "\n",
    "accuracy = 0\n",
    "\n",
    "for sample, label in tqdm(dataloader):\n",
    "    sample = sample.to(DEVICE)\n",
    "    preds = torch.argmax(model(sample), dim=-1)\n",
    "\n",
    "    accuracy += (preds == label.to(DEVICE)).sum().cpu().numpy()\n",
    "\n",
    "accuracy /= len(dataset)\n",
    "accuracy *= 100\n",
    "print(f\"Accuracy: {accuracy:.2f}%\")"
   ]
  }
 ],
 "metadata": {
  "kernelspec": {
   "display_name": "lucidrains",
   "language": "python",
   "name": "python3"
  },
  "language_info": {
   "codemirror_mode": {
    "name": "ipython",
    "version": 3
   },
   "file_extension": ".py",
   "mimetype": "text/x-python",
   "name": "python",
   "nbconvert_exporter": "python",
   "pygments_lexer": "ipython3",
   "version": "3.10.8"
  }
 },
 "nbformat": 4,
 "nbformat_minor": 2
}
